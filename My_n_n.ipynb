{
 "cells": [
  {
   "cell_type": "code",
   "execution_count": 2,
   "metadata": {
    "collapsed": true
   },
   "outputs": [],
   "source": [
    "import random\n",
    "import numpy as np"
   ]
  },
  {
   "cell_type": "code",
   "execution_count": 101,
   "metadata": {
    "collapsed": false
   },
   "outputs": [],
   "source": [
    "class Network(object):\n",
    "    def __init__(self, sizes):\n",
    "        \"\"\" Initialize the parameter of the NN\n",
    "        The `sizes` contains the number of neurons in the \n",
    "        respective layers of the network.\"\"\"\n",
    "        self.num_layers = len(sizes)\n",
    "        self.sizes = sizes\n",
    "        self.weights = [np.random.randn(x1, x2) \n",
    "                        for x1, x2 in zip(sizes[1:], sizes[:-1])]\n",
    "        self.biases = [ np.random.randn(x, 1) for x in sizes[1:]]\n",
    "        \n",
    "    def feedforward(self, a):\n",
    "        \"\"\"Return the output of the NN given the input a.\"\"\"\n",
    "        for w, b in zip(self.weights, self.biases):\n",
    "            a = sigmoid(np.dot(w,a) + b)\n",
    "        return a\n",
    "    def SGD(self, training_data, epochs, mini_batch_size, eta, test_data=None):\n",
    "        \"\"\"Train the NN using mini-batch Stochastic Gradient Descent. \"\"\"\n",
    "        if test_data: n_test=len(test_data)\n",
    "        n = len(training_data)\n",
    "        for j in range(epochs):\n",
    "            np.random.shuffle(training_data)\n",
    "            mini_batches = [\n",
    "                training_data[k:k+mini_batch_size]\n",
    "                for k in range(0, n, mini_batch_size)]\n",
    "            for mini_batch in mini_batches:\n",
    "                self.update_mini_batch(mini_batch, eta)\n",
    "            if test_data:\n",
    "                print(\"epoch {0}: {1}/{2} \".format(j, self.evaluate(test_data),n_test))\n",
    "            print(\"epoch {0} complete\".format(j))\n",
    "    \n",
    "    def update_mini_batch(self, mini_batch, eta):\n",
    "        \"\"\"Update the NN's weights and biases by apply gradient descent\n",
    "        using backpropagation to a single mini batch.\"\"\"\n",
    "        nabla_b = [np.zeros(b.shape) for b in self.biases]\n",
    "        nabla_w = [np.zeros(w.shape) for w in self.weights]\n",
    "        for x, y in mini_batch:\n",
    "            delta_nabla_b, delta_nabla_w = self.backprop(x,y)\n",
    "            nabla_b = [nb + dnb for nb, dnb in zip(nabla_b, delta_nabla_b)]\n",
    "            nabla_w = [nw + dnw for nw, dnw in zip(nabla_w, delta_nabla_w)]\n",
    "            self.weights = [w - (eta/len(mini_batch)) * nw \n",
    "                           for w, nw in zip(self.weights, nabla_w)]\n",
    "            self.biases = [b - (eta/len(mini_batch)) * nb\n",
    "                          for b, nb in zip(self.biases, nabla_b)]\n",
    "    def backprop(self, x, y):\n",
    "        nabla_b = [np.zeros(b.shape) for b in self.biases]\n",
    "        nabla_w = [np.zeros(w.shape) for w in self.weights]\n",
    "        # feedforward\n",
    "        activation = x\n",
    "        activations = [x] # list to store all the activations, layer by layer\n",
    "        zs = [] # list to store all the z vectors, layer by layer\n",
    "        for b, w in zip(self.biases, self.weights):\n",
    "            z = np.dot(w, activation) + b\n",
    "            zs.append(z)\n",
    "            activation = sigmoid(z)\n",
    "            activations.append(activation)\n",
    "        # backward pass\n",
    "        delta = self.cost_derivative(activations[-1], y) * \\\n",
    "            sigmoid_prime(zs[-1])\n",
    "        nabla_b[-1] = delta\n",
    "        nabla_w[-1] = np.dot(delta, activations[-2].transpose())\n",
    "        # Note that the variable l in the loop below is used a little\n",
    "        # differently to the notation in Chapter 2 of the book.  Here,\n",
    "        # l = 1 means the last layer of neurons, l = 2 is the\n",
    "        # second-last layer, and so on.  It's a renumbering of the\n",
    "        # scheme in the book, used here to take advantage of the fact\n",
    "        # that Python can use negative indices in lists.\n",
    "        for l in range(2, self.num_layers):\n",
    "            z = zs[-l]\n",
    "            sp = sigmoid_prime(z)\n",
    "            delta = np.dot(self.weights[-l+1].transpose(), delta) * sp\n",
    "            nabla_b[-l] = delta\n",
    "            nabla_w[-l] = np.dot(delta, activations[-l-1].transpose())\n",
    "        return (nabla_b, nabla_w)\n",
    "        \n",
    "    def evaluate(self, test_data):\n",
    "        \"\"\"Return the num of test inputs for which the NN outputs the correct\n",
    "        result.\"\"\"\n",
    "        test_results = [(np.argmax(self.feedforward(x)),y)\n",
    "                        for (x, y) in test_data]\n",
    "        return sum(int(x==y) for (x, y) in test_results)\n",
    "    def cost_derivative(self, output_activations, y):\n",
    "        return output_activations-y\n",
    "    \n",
    "def sigmoid(z):\n",
    "    \"\"\"The sigmoid function\"\"\"\n",
    "    return 1.0/(1.0+np.exp(-z))\n",
    "def sigmoid_prime(z):\n",
    "    \"\"\"Derivative of the sigmoid function\"\"\"\n",
    "    return sigmoid(z)*(1-sigmoid(z))"
   ]
  },
  {
   "cell_type": "code",
   "execution_count": 32,
   "metadata": {
    "collapsed": false
   },
   "outputs": [
    {
     "data": {
      "text/plain": [
       "<module 'mnist_loader' from '/Users/linmeng/Project/MachineLearning/muscle-memory/mnist_loader.py'>"
      ]
     },
     "execution_count": 32,
     "metadata": {},
     "output_type": "execute_result"
    }
   ],
   "source": [
    "\n",
    "importlib.reload(mnist_loader)"
   ]
  },
  {
   "cell_type": "code",
   "execution_count": 33,
   "metadata": {
    "collapsed": false
   },
   "outputs": [],
   "source": [
    "training_data, validation_data, test_data = mnist_loader.load_data_wrapper()"
   ]
  },
  {
   "cell_type": "code",
   "execution_count": 85,
   "metadata": {
    "collapsed": true
   },
   "outputs": [],
   "source": [
    "net = Network([784, 30, 10])"
   ]
  },
  {
   "cell_type": "code",
   "execution_count": null,
   "metadata": {
    "collapsed": true
   },
   "outputs": [],
   "source": []
  },
  {
   "cell_type": "code",
   "execution_count": 102,
   "metadata": {
    "collapsed": false
   },
   "outputs": [
    {
     "name": "stdout",
     "output_type": "stream",
     "text": [
      "epoch 0: 8478/10000 \n",
      "epoch 0 complete\n",
      "epoch 1: 8847/10000 \n",
      "epoch 1 complete\n",
      "epoch 2: 8929/10000 \n",
      "epoch 2 complete\n",
      "epoch 3: 8948/10000 \n",
      "epoch 3 complete\n",
      "epoch 4: 9030/10000 \n",
      "epoch 4 complete\n",
      "epoch 5: 9077/10000 \n",
      "epoch 5 complete\n",
      "epoch 6: 9221/10000 \n",
      "epoch 6 complete\n",
      "epoch 7: 9003/10000 \n",
      "epoch 7 complete\n",
      "epoch 8: 8989/10000 \n",
      "epoch 8 complete\n",
      "epoch 9: 9167/10000 \n",
      "epoch 9 complete\n",
      "epoch 10: 9022/10000 \n",
      "epoch 10 complete\n"
     ]
    },
    {
     "name": "stderr",
     "output_type": "stream",
     "text": [
      "/Users/linmeng/anaconda/lib/python3.5/site-packages/ipykernel/__main__.py:86: RuntimeWarning: overflow encountered in exp\n"
     ]
    },
    {
     "name": "stdout",
     "output_type": "stream",
     "text": [
      "epoch 11: 9103/10000 \n",
      "epoch 11 complete\n",
      "epoch 12: 9129/10000 \n",
      "epoch 12 complete\n",
      "epoch 13: 9159/10000 \n",
      "epoch 13 complete\n",
      "epoch 14: 9101/10000 \n",
      "epoch 14 complete\n",
      "epoch 15: 9155/10000 \n",
      "epoch 15 complete\n",
      "epoch 16: 9105/10000 \n",
      "epoch 16 complete\n",
      "epoch 17: 9254/10000 \n",
      "epoch 17 complete\n",
      "epoch 18: 9056/10000 \n",
      "epoch 18 complete\n",
      "epoch 19: 9240/10000 \n",
      "epoch 19 complete\n",
      "epoch 20: 9188/10000 \n",
      "epoch 20 complete\n",
      "epoch 21: 9214/10000 \n",
      "epoch 21 complete\n",
      "epoch 22: 9084/10000 \n",
      "epoch 22 complete\n",
      "epoch 23: 9062/10000 \n",
      "epoch 23 complete\n",
      "epoch 24: 9255/10000 \n",
      "epoch 24 complete\n",
      "epoch 25: 9218/10000 \n",
      "epoch 25 complete\n",
      "epoch 26: 9199/10000 \n",
      "epoch 26 complete\n",
      "epoch 27: 9235/10000 \n",
      "epoch 27 complete\n",
      "epoch 28: 9221/10000 \n",
      "epoch 28 complete\n",
      "epoch 29: 9195/10000 \n",
      "epoch 29 complete\n"
     ]
    }
   ],
   "source": [
    "net = Network([784, 30, 10])\n",
    "net.SGD(training_data, 30, 10, 3.0, test_data=test_data)"
   ]
  }
 ],
 "metadata": {
  "anaconda-cloud": {},
  "kernelspec": {
   "display_name": "Python [Root]",
   "language": "python",
   "name": "Python [Root]"
  },
  "language_info": {
   "codemirror_mode": {
    "name": "ipython",
    "version": 3
   },
   "file_extension": ".py",
   "mimetype": "text/x-python",
   "name": "python",
   "nbconvert_exporter": "python",
   "pygments_lexer": "ipython3",
   "version": "3.5.2"
  }
 },
 "nbformat": 4,
 "nbformat_minor": 0
}
